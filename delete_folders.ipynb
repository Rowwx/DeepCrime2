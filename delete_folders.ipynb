{
 "cells": [
  {
   "cell_type": "code",
   "execution_count": 2,
   "id": "3ef7fa8f-91fb-4101-b2a1-767fc338e302",
   "metadata": {},
   "outputs": [],
   "source": [
    "!rm -rf ./mutated_models"
   ]
  },
  {
   "cell_type": "code",
   "execution_count": 3,
   "id": "f5785371-cb0f-47d9-be98-60c0292cbbc1",
   "metadata": {},
   "outputs": [],
   "source": [
    "!rm -rf ./prepared_models"
   ]
  },
  {
   "cell_type": "code",
   "execution_count": 4,
   "id": "edde1726-63e4-4c32-9390-ff3dfec24d40",
   "metadata": {},
   "outputs": [],
   "source": [
    "!rm -rf ./trained_models"
   ]
  },
  {
   "cell_type": "code",
   "execution_count": null,
   "id": "995fe4a1-eae0-449a-91ef-a6195a778668",
   "metadata": {},
   "outputs": [],
   "source": []
  }
 ],
 "metadata": {
  "kernelspec": {
   "display_name": "Python 3 (ipykernel)",
   "language": "python",
   "name": "python3"
  },
  "language_info": {
   "codemirror_mode": {
    "name": "ipython",
    "version": 3
   },
   "file_extension": ".py",
   "mimetype": "text/x-python",
   "name": "python",
   "nbconvert_exporter": "python",
   "pygments_lexer": "ipython3",
   "version": "3.11.9"
  }
 },
 "nbformat": 4,
 "nbformat_minor": 5
}
